{
 "cells": [
  {
   "cell_type": "code",
   "execution_count": 1,
   "metadata": {},
   "outputs": [],
   "source": [
    "import pandas as pd\n",
    "import numpy as np\n",
    "from sklearn.feature_extraction import DictVectorizer\n",
    "from sklearn.feature_extraction.text import CountVectorizer, TfidfVectorizer\n",
    "from sklearn.preprocessing import MinMaxScaler, StandardScaler\n",
    "from sklearn.decomposition import PCA\n",
    "from sklearn.impute import SimpleImputer\n",
    "from sklearn.model_selection import train_test_split\n",
    "from sklearn.neighbors import KNeighborsClassifier\n",
    "from sklearn.naive_bayes import MultinomialNB\n",
    "from sklearn.metrics import classification_report\n",
    "from sklearn.model_selection import GridSearchCV\n",
    "from sklearn.tree import DecisionTreeClassifier\n",
    "from sklearn.tree import export_graphviz\n",
    "from sklearn.ensemble import RandomForestClassifier\n",
    "\n",
    "pd.set_option('display.max_columns', None)\n",
    "%config IPCompleter.greedy=True"
   ]
  },
  {
   "cell_type": "code",
   "execution_count": null,
   "metadata": {
    "scrolled": true
   },
   "outputs": [],
   "source": [
    "# Obtain and combine database\n",
    "\n",
    "leads = pd.read_csv('/Users/steven.w/Downloads/Final_Projects/leads.csv')\n",
    "opps = pd.read_csv('/Users/steven.w/Downloads/Final_Projects/opps.csv')\n",
    "opps['Opportunity'].fillna(value=1, inplace=True)\n",
    "data = pd.concat([opps, leads])\n",
    "data.drop_duplicates(subset=['Id'])\n",
    "df = data.iloc[:10000]\n",
    "df.to_csv('machine_learning_data.csv')"
   ]
  },
  {
   "cell_type": "markdown",
   "metadata": {},
   "source": [
    "### Machine Learning Part"
   ]
  },
  {
   "cell_type": "code",
   "execution_count": 69,
   "metadata": {},
   "outputs": [],
   "source": [
    "data = pd.read_csv('machine_learning_data.csv')"
   ]
  },
  {
   "cell_type": "code",
   "execution_count": 71,
   "metadata": {},
   "outputs": [],
   "source": [
    "# Convert the SFDC Campaigns to yes or no\n",
    "data['SFDC Campaigns'].fillna(value=0, inplace=True)\n",
    "data['From SFDC Campaigns'] = np.where(data['SFDC Campaigns'] == 0, 0, 1)"
   ]
  },
  {
   "cell_type": "code",
   "execution_count": 72,
   "metadata": {},
   "outputs": [],
   "source": [
    "# Convert 'City of Event' to yes or no\n",
    "data['City of Event'].fillna(value=0, inplace=True)\n",
    "data['Attended Event'] = np.where(data['City of Event'] == 0, 0, 1)"
   ]
  },
  {
   "cell_type": "code",
   "execution_count": 73,
   "metadata": {},
   "outputs": [],
   "source": [
    "# convert birth date to age\n",
    "time_value = pd.to_datetime(data['Birth Date'], format='%Y-%m-%d')\n",
    "time_value = pd.DatetimeIndex(time_value)\n",
    "data['Age'] = 2020 - time_value.year\n",
    "data['Age'].fillna(value=data['Age'].mean(), inplace=True)"
   ]
  },
  {
   "cell_type": "code",
   "execution_count": 93,
   "metadata": {},
   "outputs": [],
   "source": [
    "# clearn all the features we need for machine learening\n",
    "data['Unsubscribed'].fillna(value=0, inplace=True)\n",
    "data['Person Score'].fillna(value=0, inplace=True)\n",
    "data['Behavior Score'].fillna(value=0, inplace=True)\n",
    "data['Media SubGroup'].fillna(value=0, inplace=True)\n",
    "data['Address Country'].fillna(value=0, inplace=True)\n",
    "data['Primary Program'].fillna(value=0, inplace=True)\n",
    "data['Engagement'].fillna(value=0, inplace=True)\n",
    "data['Opportunity'].fillna(value=0, inplace=True)"
   ]
  },
  {
   "cell_type": "code",
   "execution_count": 94,
   "metadata": {},
   "outputs": [
    {
     "name": "stdout",
     "output_type": "stream",
     "text": [
      "<class 'pandas.core.frame.DataFrame'>\n",
      "RangeIndex: 10000 entries, 0 to 9999\n",
      "Data columns (total 28 columns):\n",
      " #   Column                    Non-Null Count  Dtype  \n",
      "---  ------                    --------------  -----  \n",
      " 0   Unnamed: 0                10000 non-null  int64  \n",
      " 1   Id                        10000 non-null  int64  \n",
      " 2   Person Status             6745 non-null   object \n",
      " 3   Person Score              10000 non-null  float64\n",
      " 4   SFDC Type                 10000 non-null  object \n",
      " 5   Application Status        244 non-null    object \n",
      " 6   Behavior Score            10000 non-null  float64\n",
      " 7   Birth Date                3626 non-null   object \n",
      " 8   Citizenship Status        310 non-null    object \n",
      " 9   City of Event             10000 non-null  object \n",
      " 10  Source                    232 non-null    object \n",
      " 11  Media Group               10000 non-null  object \n",
      " 12  Media SubGroup            10000 non-null  object \n",
      " 13  Opportunity               10000 non-null  float64\n",
      " 14  Address Country           10000 non-null  object \n",
      " 15  Primary Program           10000 non-null  object \n",
      " 16  Unsubscribed              10000 non-null  float64\n",
      " 17  YSIS Student ID           234 non-null    float64\n",
      " 18  Application Fee Status    150 non-null    object \n",
      " 19  Application Submitted On  152 non-null    object \n",
      " 20  Education Agent Name      35 non-null     object \n",
      " 21  Engagement                10000 non-null  float64\n",
      " 22  Gender                    350 non-null    object \n",
      " 23  Interview held#           6539 non-null   float64\n",
      " 24  SFDC Campaigns            10000 non-null  object \n",
      " 25  From SFDC Campaigns       10000 non-null  int64  \n",
      " 26  Attended Event            10000 non-null  int64  \n",
      " 27  Age                       10000 non-null  float64\n",
      "dtypes: float64(8), int64(4), object(16)\n",
      "memory usage: 2.1+ MB\n"
     ]
    }
   ],
   "source": [
    "data.info()"
   ]
  },
  {
   "cell_type": "code",
   "execution_count": 243,
   "metadata": {},
   "outputs": [],
   "source": [
    "# Prepare the dataframe for machine learning (pick up different features)\n",
    "df = data[['Media SubGroup', 'Primary Program', 'Unsubscribed', 'Attended Event', 'Opportunity']]"
   ]
  },
  {
   "cell_type": "code",
   "execution_count": 244,
   "metadata": {},
   "outputs": [],
   "source": [
    "y = df['Opportunity']\n",
    "\n",
    "x = df.drop(axis=1, columns=['Opportunity'])"
   ]
  },
  {
   "cell_type": "code",
   "execution_count": 245,
   "metadata": {},
   "outputs": [],
   "source": [
    "x_train, x_test, y_train, y_test = train_test_split(x, y, test_size=0.25)"
   ]
  },
  {
   "cell_type": "code",
   "execution_count": 246,
   "metadata": {},
   "outputs": [],
   "source": [
    "# # Standardization\n",
    "# std = StandardScaler()\n",
    "# x_train[['Person Score', 'Behavior Score', 'Engagement']] = std.fit_transform(x_train[['Person Score', 'Behavior Score', 'Engagement']])\n",
    "# x_test[['Person Score', 'Behavior Score', 'Engagement']] = std.transform(x_test[['Person Score', 'Behavior Score', 'Engagement']])"
   ]
  },
  {
   "cell_type": "code",
   "execution_count": 247,
   "metadata": {},
   "outputs": [],
   "source": [
    "# # Scaler\n",
    "# mm = MinMaxScaler()\n",
    "# x_train[['Person Score', 'Behavior Score', 'Engagement']] = mm.fit_transform(x_train[['Person Score', 'Behavior Score', 'Engagement']])\n",
    "# x_test[['Person Score', 'Behavior Score', 'Engagement']] = mm.transform(x_test[['Person Score', 'Behavior Score', 'Engagement']])"
   ]
  },
  {
   "cell_type": "code",
   "execution_count": 248,
   "metadata": {},
   "outputs": [],
   "source": [
    "# x_train['Age'] = x_train['Age'].values.reshape(-1, 1)\n",
    "# x_test['Age'] = x_test['Age'].values.reshape(-1, 1)"
   ]
  },
  {
   "cell_type": "code",
   "execution_count": 249,
   "metadata": {},
   "outputs": [],
   "source": [
    "# # Using PCA decrease the features\n",
    "# pca = PCA(n_components=0.9)\n",
    "# x_train = pca.fit_transform(x_train)\n",
    "# x_test = pca.fit_transform(x_test)"
   ]
  },
  {
   "cell_type": "code",
   "execution_count": 250,
   "metadata": {},
   "outputs": [],
   "source": [
    "dict = DictVectorizer(sparse=False)\n",
    "x_train = dict.fit_transform(x_train.to_dict(orient='records'))\n",
    "x_test = dict.transform(x_test.to_dict(orient='records'))"
   ]
  },
  {
   "cell_type": "markdown",
   "metadata": {},
   "source": [
    "### Using KNeighbors "
   ]
  },
  {
   "cell_type": "code",
   "execution_count": 251,
   "metadata": {},
   "outputs": [
    {
     "data": {
      "text/plain": [
       "0.8948"
      ]
     },
     "execution_count": 251,
     "metadata": {},
     "output_type": "execute_result"
    }
   ],
   "source": [
    "# use knn model\n",
    "knn = KNeighborsClassifier()\n",
    "\n",
    "knn.fit(x_train, y_train)\n",
    "knn.score(x_test, y_test)\n",
    "\n",
    "# y_predict = knn.predict(x_test)\n",
    "# y_predict"
   ]
  },
  {
   "cell_type": "code",
   "execution_count": 252,
   "metadata": {},
   "outputs": [
    {
     "data": {
      "text/plain": [
       "0.8896"
      ]
     },
     "execution_count": 252,
     "metadata": {},
     "output_type": "execute_result"
    }
   ],
   "source": [
    "# using GridSearchCV \n",
    "param = {'n_neighbors': [5, 10, 50, 100, 500]}\n",
    "gc = GridSearchCV(knn, param_grid=param, cv=2)\n",
    "gc.fit(x_train, y_train)\n",
    "gc.score(x_test, y_test)"
   ]
  },
  {
   "cell_type": "code",
   "execution_count": 253,
   "metadata": {},
   "outputs": [
    {
     "data": {
      "text/plain": [
       "{'n_neighbors': 10}"
      ]
     },
     "execution_count": 253,
     "metadata": {},
     "output_type": "execute_result"
    }
   ],
   "source": [
    "gc.best_params_\n",
    "# gc.best_score_\n",
    "# gc.best_estimator_\n",
    "# gc.cv_results_"
   ]
  },
  {
   "cell_type": "markdown",
   "metadata": {},
   "source": [
    "### Using naive bayes classifier"
   ]
  },
  {
   "cell_type": "code",
   "execution_count": 254,
   "metadata": {},
   "outputs": [],
   "source": [
    "# tf = TfidfVectorizer()\n",
    "# mlt = MultinomialNB(alpha=1.0)\n",
    "# mlt.fit(x_train, y_train)\n",
    "\n",
    "# Not a good idea"
   ]
  },
  {
   "cell_type": "markdown",
   "metadata": {},
   "source": [
    "### Using Decision Tree"
   ]
  },
  {
   "cell_type": "code",
   "execution_count": 255,
   "metadata": {
    "scrolled": true
   },
   "outputs": [
    {
     "name": "stdout",
     "output_type": "stream",
     "text": [
      "['Attended Event', 'Media SubGroup', 'Media SubGroup=680 News', 'Media SubGroup=Academy Canada', 'Media SubGroup=Academy of Design', 'Media SubGroup=Academy of Design Sign', 'Media SubGroup=Admissions Advisor', 'Media SubGroup=All Star Directories', 'Media SubGroup=Alumni', 'Media SubGroup=American Life News', 'Media SubGroup=Ashley', 'Media SubGroup=At Work Immigration', 'Media SubGroup=Bee Line Web', 'Media SubGroup=Bing', 'Media SubGroup=Bing Ad', 'Media SubGroup=Bing Ad Brand', 'Media SubGroup=Blog', 'Media SubGroup=Brazil Tour', 'Media SubGroup=Brochure', 'Media SubGroup=CCO', 'Media SubGroup=CHFI', 'Media SubGroup=CHOM', 'Media SubGroup=CHUM', 'Media SubGroup=Canadian Military Magazine', 'Media SubGroup=Capital English Solutions', 'Media SubGroup=Career Fair', 'Media SubGroup=China Tour 2015', 'Media SubGroup=China Tour Beijing CEE Fair', 'Media SubGroup=Counselor.', 'Media SubGroup=E! Talk', 'Media SubGroup=Edge', 'Media SubGroup=Edge Interactive', 'Media SubGroup=Edge102.1', 'Media SubGroup=Education Agent', 'Media SubGroup=Education Agent (International)', 'Media SubGroup=Education Dynamics', 'Media SubGroup=Email from Yorkville University', 'Media SubGroup=Facebook', 'Media SubGroup=Facebook Ad', 'Media SubGroup=Facebook Ad Brand', 'Media SubGroup=Facebook Ad Dual', 'Media SubGroup=Facebook Ad FD', 'Media SubGroup=Facebook Ad Intl', 'Media SubGroup=Facebook INTL Ad', 'Media SubGroup=Facebook INTL Ad Brand', 'Media SubGroup=Faculty', 'Media SubGroup=Family', 'Media SubGroup=Friend', 'Media SubGroup=Globe and Mail', 'Media SubGroup=Golden Panda Festival', 'Media SubGroup=Google', 'Media SubGroup=Google +BBA', 'Media SubGroup=Google Ad', 'Media SubGroup=Google Ad Brand', 'Media SubGroup=Google Ad Dual', 'Media SubGroup=Google Ad INTL', 'Media SubGroup=Google Display Ad', 'Media SubGroup=Google Places', 'Media SubGroup=Great Exposure - Landing Pages', 'Media SubGroup=Great Exposure Inc.', 'Media SubGroup=HGTV', 'Media SubGroup=Hansa Language Centre', 'Media SubGroup=High Five Digital Marketing', 'Media SubGroup=High School Presentation', 'Media SubGroup=Instagram', 'Media SubGroup=Iran Tour', 'Media SubGroup=Kiss FM', 'Media SubGroup=Kiss FM 92.5', 'Media SubGroup=LSI Language Schools International', 'Media SubGroup=Latin Tour', 'Media SubGroup=Lifetime', 'Media SubGroup=LinkedIN Ad', 'Media SubGroup=LinkedIn', 'Media SubGroup=Live Chat - Ashley', 'Media SubGroup=Maple Leaf International High School', 'Media SubGroup=Open House', 'Media SubGroup=Orientation', 'Media SubGroup=Original Agency', 'Media SubGroup=Other Search Engine', 'Media SubGroup=Other Social Media', 'Media SubGroup=Other Website', 'Media SubGroup=Phillipines Tour', 'Media SubGroup=QuinStreet', 'Media SubGroup=RCC Alumni', 'Media SubGroup=Radio - General (Private)', 'Media SubGroup=Radio – General', 'Media SubGroup=Radio – General (Private)', 'Media SubGroup=Radio-YUonline', 'Media SubGroup=Reel Canada', 'Media SubGroup=SAL', 'Media SubGroup=Social Media Private', 'Media SubGroup=Student', 'Media SubGroup=Student Life Expo', 'Media SubGroup=StudyPortals', 'Media SubGroup=TFS Referral', 'Media SubGroup=TTC / Subway', 'Media SubGroup=TTC Private', 'Media SubGroup=TV - General (Private)', 'Media SubGroup=Teacher / Guidance Counsellor', 'Media SubGroup=Teacher- Guidance Counsellor', 'Media SubGroup=The News Educations Expo Pakistan', 'Media SubGroup=Thermo Interactive', 'Media SubGroup=Toronto Film School', 'Media SubGroup=Toronto Film School Sign', 'Media SubGroup=Toronto Transit (TTC)', 'Media SubGroup=Transit', 'Media SubGroup=Twitter', 'Media SubGroup=Twitter Ad', 'Media SubGroup=UC Education Marketing Inc.', 'Media SubGroup=UPS Presentation', 'Media SubGroup=Unknown', 'Media SubGroup=Vietnam Tour', 'Media SubGroup=Virgin', 'Media SubGroup=W Movies', 'Media SubGroup=Wechat', 'Media SubGroup=Weibo', 'Media SubGroup=Weibo-Paid', 'Media SubGroup=Westervelt College', 'Media SubGroup=YU Referral Student', 'Media SubGroup=Yahoo', 'Media SubGroup=Yahoo Gemini Ad', 'Media SubGroup=Yahoo!', 'Media SubGroup=YouTube', 'Media SubGroup=YouTube Ad', 'Media SubGroup=YouTube Ad Dual', 'Media SubGroup=Your Passion Campaign', 'Media SubGroup=Zeta Interactive', 'Media SubGroup=allartschools.com', 'Media SubGroup=z103.5', 'Primary Program', 'Primary Program=Acting for Film, TV & the Theatre', 'Primary Program=Acting for Film, Television & Theatre', 'Primary Program=Acting for Film, Television and Theatre', 'Primary Program=Bachelor of Business Administration', 'Primary Program=Bachelor of Interior Design', 'Primary Program=Designing for Fashion', 'Primary Program=ESL Gateway', 'Primary Program=Fashion Design', 'Primary Program=Film Production', 'Primary Program=Graphic Design and Interactive Media', 'Primary Program=Interior Decorating', 'Primary Program=Marketing for Fashion & Entertainment', 'Primary Program=Master of Arts in Counseling Psychology %28MACP%29', 'Primary Program=Master of Arts in Counseling Psychology (MACP)', 'Primary Program=Master of Arts in Counselling Psychology', 'Primary Program=Master of Education', 'Primary Program=Non-Degree Seeking - MACP', 'Primary Program=Non-Degree Seeking - MEEL', 'Primary Program=Video Game Animation', 'Primary Program=Video Game Design & Development', 'Primary Program=Video Game Design and Animation', 'Primary Program=Video Game Design and Development', 'Primary Program=Video Production', 'Primary Program=Visual Effects', 'Primary Program=Writing for Film & Television', 'Unsubscribed']\n"
     ]
    },
    {
     "data": {
      "text/plain": [
       "array([[0., 0., 0., ..., 0., 0., 0.],\n",
       "       [0., 0., 0., ..., 0., 0., 0.],\n",
       "       [0., 0., 0., ..., 0., 0., 0.],\n",
       "       ...,\n",
       "       [0., 0., 0., ..., 0., 0., 0.],\n",
       "       [0., 0., 0., ..., 0., 0., 0.],\n",
       "       [0., 0., 0., ..., 0., 0., 0.]])"
      ]
     },
     "execution_count": 255,
     "metadata": {},
     "output_type": "execute_result"
    }
   ],
   "source": [
    "print(dict.get_feature_names())\n",
    "x_train"
   ]
  },
  {
   "cell_type": "code",
   "execution_count": 256,
   "metadata": {},
   "outputs": [],
   "source": [
    "dec = DecisionTreeClassifier()"
   ]
  },
  {
   "cell_type": "code",
   "execution_count": 257,
   "metadata": {},
   "outputs": [
    {
     "data": {
      "text/plain": [
       "DecisionTreeClassifier(ccp_alpha=0.0, class_weight=None, criterion='gini',\n",
       "                       max_depth=None, max_features=None, max_leaf_nodes=None,\n",
       "                       min_impurity_decrease=0.0, min_impurity_split=None,\n",
       "                       min_samples_leaf=1, min_samples_split=2,\n",
       "                       min_weight_fraction_leaf=0.0, presort='deprecated',\n",
       "                       random_state=None, splitter='best')"
      ]
     },
     "execution_count": 257,
     "metadata": {},
     "output_type": "execute_result"
    }
   ],
   "source": [
    "dec.fit(x_train, y_train)"
   ]
  },
  {
   "cell_type": "code",
   "execution_count": 258,
   "metadata": {},
   "outputs": [
    {
     "data": {
      "text/plain": [
       "0.898"
      ]
     },
     "execution_count": 258,
     "metadata": {},
     "output_type": "execute_result"
    }
   ],
   "source": [
    "dec.score(x_test, y_test)"
   ]
  },
  {
   "cell_type": "code",
   "execution_count": 259,
   "metadata": {},
   "outputs": [],
   "source": [
    "# export a tree to have a look\n",
    "# convert the dot to png : dot -Tpng tree.dot -o tree.png\n",
    "export_graphviz(dec, out_file='tree.dot')"
   ]
  },
  {
   "cell_type": "markdown",
   "metadata": {},
   "source": [
    "### Using Random Forest"
   ]
  },
  {
   "cell_type": "code",
   "execution_count": 260,
   "metadata": {},
   "outputs": [],
   "source": [
    "rf = RandomForestClassifier()"
   ]
  },
  {
   "cell_type": "code",
   "execution_count": 261,
   "metadata": {},
   "outputs": [
    {
     "data": {
      "text/plain": [
       "0.9028"
      ]
     },
     "execution_count": 261,
     "metadata": {},
     "output_type": "execute_result"
    }
   ],
   "source": [
    "rf.fit(x_train, y_train)\n",
    "rf.score(x_test, y_test)"
   ]
  },
  {
   "cell_type": "code",
   "execution_count": 262,
   "metadata": {},
   "outputs": [],
   "source": [
    "# using GridSearchCV to evalue the result\n",
    "param = {\"n_estimators\": [120, 200, 300, 500, 800, 1200], 'max_depth': [5, 8, 15, 25, 30]}\n",
    "GC = GridSearchCV(rf, param_grid=param, cv=2)"
   ]
  },
  {
   "cell_type": "code",
   "execution_count": 263,
   "metadata": {},
   "outputs": [
    {
     "data": {
      "text/plain": [
       "0.9056"
      ]
     },
     "execution_count": 263,
     "metadata": {},
     "output_type": "execute_result"
    }
   ],
   "source": [
    "GC.fit(x_train, y_train)\n",
    "GC.score(x_test, y_test)"
   ]
  },
  {
   "cell_type": "code",
   "execution_count": 265,
   "metadata": {},
   "outputs": [
    {
     "data": {
      "text/plain": [
       "{'max_depth': 30, 'n_estimators': 1200}"
      ]
     },
     "execution_count": 265,
     "metadata": {},
     "output_type": "execute_result"
    }
   ],
   "source": [
    "GC.best_params_"
   ]
  },
  {
   "cell_type": "code",
   "execution_count": null,
   "metadata": {},
   "outputs": [],
   "source": []
  }
 ],
 "metadata": {
  "kernelspec": {
   "display_name": "Python 3.8.0 64-bit",
   "language": "python",
   "name": "python38064bit6392dc061cb64e9cb514d99beecb569d"
  },
  "language_info": {
   "codemirror_mode": {
    "name": "ipython",
    "version": 3
   },
   "file_extension": ".py",
   "mimetype": "text/x-python",
   "name": "python",
   "nbconvert_exporter": "python",
   "pygments_lexer": "ipython3",
   "version": "3.8.0"
  }
 },
 "nbformat": 4,
 "nbformat_minor": 4
}
